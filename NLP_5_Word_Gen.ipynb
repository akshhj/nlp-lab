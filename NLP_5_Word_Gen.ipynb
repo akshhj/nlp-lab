{
  "cells": [
    {
      "cell_type": "markdown",
      "metadata": {
        "id": "view-in-github",
        "colab_type": "text"
      },
      "source": [
        "<a href=\"https://colab.research.google.com/github/akshhj/nlp-lab/blob/main/NLP_5_Word_Gen.ipynb\" target=\"_parent\"><img src=\"https://colab.research.google.com/assets/colab-badge.svg\" alt=\"Open In Colab\"/></a>"
      ]
    },
    {
      "cell_type": "code",
      "execution_count": null,
      "id": "6127ffc1-cb65-4c1d-9ddc-0217c08f55de",
      "metadata": {
        "id": "6127ffc1-cb65-4c1d-9ddc-0217c08f55de",
        "outputId": "91fc0ea2-bbec-4fe4-fc87-550a3c461222",
        "colab": {
          "base_uri": "https://localhost:8080/"
        }
      },
      "outputs": [
        {
          "output_type": "stream",
          "name": "stdout",
          "text": [
            "Requirement already satisfied: nltk in /usr/local/lib/python3.11/dist-packages (3.9.1)\n",
            "Requirement already satisfied: click in /usr/local/lib/python3.11/dist-packages (from nltk) (8.1.8)\n",
            "Requirement already satisfied: joblib in /usr/local/lib/python3.11/dist-packages (from nltk) (1.4.2)\n",
            "Requirement already satisfied: regex>=2021.8.3 in /usr/local/lib/python3.11/dist-packages (from nltk) (2024.11.6)\n",
            "Requirement already satisfied: tqdm in /usr/local/lib/python3.11/dist-packages (from nltk) (4.67.1)\n"
          ]
        }
      ],
      "source": [
        "pip install nltk"
      ]
    },
    {
      "cell_type": "code",
      "execution_count": null,
      "id": "ab2c1007-a30c-486e-bc77-82b746d5f14b",
      "metadata": {
        "id": "ab2c1007-a30c-486e-bc77-82b746d5f14b",
        "outputId": "927d965f-7bfe-449a-be47-a3ba59d8caf3",
        "colab": {
          "base_uri": "https://localhost:8080/"
        }
      },
      "outputs": [
        {
          "output_type": "stream",
          "name": "stderr",
          "text": [
            "[nltk_data] Downloading package words to /root/nltk_data...\n",
            "[nltk_data]   Unzipping corpora/words.zip.\n"
          ]
        },
        {
          "output_type": "stream",
          "name": "stdout",
          "text": [
            "['spiritous', 'indeposable', 'retaining', 'silvendy', 'reedbush', 'dehortatory', 'spinibulbar', 'evangelical', 'biweekly', 'Thoroughbred']\n"
          ]
        }
      ],
      "source": [
        "import random\n",
        "import nltk\n",
        "from nltk.corpus import words\n",
        "nltk.download('words')\n",
        "word_list = words.words()\n",
        "random_words = random.sample(word_list, 10)\n",
        "print(random_words)\n"
      ]
    },
    {
      "cell_type": "code",
      "execution_count": null,
      "id": "2da80df5-569f-4bec-9d40-53140c6b963f",
      "metadata": {
        "id": "2da80df5-569f-4bec-9d40-53140c6b963f",
        "outputId": "c31c7185-f62c-47d7-bcac-fd16d6dbd10e",
        "colab": {
          "base_uri": "https://localhost:8080/"
        }
      },
      "outputs": [
        {
          "output_type": "stream",
          "name": "stderr",
          "text": [
            "[nltk_data] Downloading package words to /root/nltk_data...\n",
            "[nltk_data]   Package words is already up-to-date!\n"
          ]
        },
        {
          "output_type": "stream",
          "name": "stdout",
          "text": [
            "Enter a word to check: loi\n",
            "'loi' is not a valid word.\n"
          ]
        }
      ],
      "source": [
        "import nltk\n",
        "from nltk.corpus import words\n",
        "nltk.download('words')\n",
        "word_list = set(words.words())\n",
        "def check_word(word):\n",
        "    if word.lower() in word_list:\n",
        "        print(f\"'{word}' is a valid word!\")\n",
        "    else:\n",
        "        print(f\"'{word}' is not a valid word.\")\n",
        "word_to_check = input(\"Enter a word to check: \")\n",
        "check_word(word_to_check)\n"
      ]
    },
    {
      "cell_type": "code",
      "execution_count": null,
      "id": "21a76d43-9fe2-4347-8705-b904d8b6a894",
      "metadata": {
        "id": "21a76d43-9fe2-4347-8705-b904d8b6a894",
        "outputId": "7833fee5-01c0-4bcc-adff-ad874a7c539e",
        "colab": {
          "base_uri": "https://localhost:8080/"
        }
      },
      "outputs": [
        {
          "output_type": "stream",
          "name": "stderr",
          "text": [
            "[nltk_data] Downloading package words to /root/nltk_data...\n",
            "[nltk_data]   Package words is already up-to-date!\n"
          ]
        },
        {
          "output_type": "stream",
          "name": "stdout",
          "text": [
            "Enter the set of characters (e.g., a,e,t): a,b,c,k,i,o,p\n",
            "Enter the word length: 3\n",
            "Valid words of length 3: ako, bac, bap, boa, bop, cab, cap, cob, cop, iao, iba, kai, kip, koa, kob, koi, kop, oak, obi, ock, oka, oki, pac, pia, pic, pik, pob, poi\n"
          ]
        }
      ],
      "source": [
        "import itertools\n",
        "from nltk.corpus import words\n",
        "import nltk\n",
        "\n",
        "# Download necessary NLTK resources\n",
        "nltk.download('words')\n",
        "\n",
        "# Function to generate valid words from a given set of characters and word length\n",
        "def generate_valid_words(characters, word_length):\n",
        "    # Generate all possible permutations of the given length\n",
        "    permutations = set(itertools.permutations(characters, word_length))\n",
        "\n",
        "    # Convert permutations to strings and check against NLTK words\n",
        "    valid_words = set()\n",
        "    for perm in permutations:\n",
        "        word = ''.join(perm).lower()  # Make sure the word is lowercase\n",
        "        if word in words.words():  # Check if the word exists in NLTK corpus\n",
        "            valid_words.add(word)\n",
        "\n",
        "    return valid_words\n",
        "\n",
        "# Get the set of characters and the word length from the user\n",
        "characters = input(\"Enter the set of characters (e.g., a,e,t): \").strip().split(',')\n",
        "word_length = int(input(\"Enter the word length: \").strip())\n",
        "\n",
        "# Generate valid words\n",
        "valid_words = generate_valid_words(characters, word_length)\n",
        "\n",
        "# Display the result\n",
        "if valid_words:\n",
        "    print(f\"Valid words of length {word_length}: {', '.join(sorted(valid_words))}\")\n",
        "else:\n",
        "    print(f\"No valid words of length {word_length} could be generated.\")\n"
      ]
    },
    {
      "cell_type": "code",
      "execution_count": null,
      "id": "108956f7-da24-4de5-b84e-ff371df6f2f8",
      "metadata": {
        "id": "108956f7-da24-4de5-b84e-ff371df6f2f8",
        "outputId": "11c9e3c1-9509-41b3-b2af-8c0f4b757036",
        "colab": {
          "base_uri": "https://localhost:8080/"
        }
      },
      "outputs": [
        {
          "output_type": "stream",
          "name": "stderr",
          "text": [
            "[nltk_data] Downloading package words to /root/nltk_data...\n",
            "[nltk_data]   Package words is already up-to-date!\n"
          ]
        },
        {
          "output_type": "stream",
          "name": "stdout",
          "text": [
            "Enter a word to generate variations with prefixes and suffixes: add\n",
            "Valid words with prefixes and suffixes:\n",
            "['unadd', 'readd', 'misadd', 'added', 'addable', 'adder']\n"
          ]
        }
      ],
      "source": [
        "import random\n",
        "import nltk\n",
        "from nltk.corpus import words\n",
        "\n",
        "# Download words corpus if not already downloaded\n",
        "nltk.download('words')\n",
        "\n",
        "# Set of valid English words\n",
        "word_list = set(words.words())\n",
        "\n",
        "# Define some prefixes and suffixes\n",
        "prefixes = ['un', 're', 'dis', 'pre', 'mis', 'in', 'sub', 'over', 'under', 'auto']\n",
        "suffixes = ['ing', 'ed', 'ly', 's', 'ment', 'ness', 'able', 'ful', 'er', 'ion']\n",
        "\n",
        "def generate_valid_word_variations(user_word):\n",
        "    # Initialize lists to store valid words\n",
        "    valid_words = []\n",
        "\n",
        "    # Generate new words by adding prefixes\n",
        "    for prefix in prefixes:\n",
        "        new_word_with_prefix = prefix + user_word\n",
        "        if new_word_with_prefix.lower() in word_list:\n",
        "            valid_words.append(new_word_with_prefix)\n",
        "\n",
        "    # Generate new words by adding suffixes\n",
        "    for suffix in suffixes:\n",
        "        new_word_with_suffix = user_word + suffix\n",
        "        if new_word_with_suffix.lower() in word_list:\n",
        "            valid_words.append(new_word_with_suffix)\n",
        "\n",
        "    return valid_words\n",
        "\n",
        "# Get a word from the user\n",
        "user_word = input(\"Enter a word to generate variations with prefixes and suffixes: \").strip().lower()\n",
        "\n",
        "# Generate valid words with prefixes and suffixes\n",
        "valid_words = generate_valid_word_variations(user_word)\n",
        "\n",
        "# Output the valid words\n",
        "if valid_words:\n",
        "    print(\"Valid words with prefixes and suffixes:\")\n",
        "    print(valid_words)\n",
        "else:\n",
        "    print(\"No valid words generated with the given word and available prefixes/suffixes.\")\n"
      ]
    },
    {
      "cell_type": "code",
      "execution_count": null,
      "id": "543131e2-0c04-4857-9fd8-713db523922e",
      "metadata": {
        "id": "543131e2-0c04-4857-9fd8-713db523922e"
      },
      "outputs": [],
      "source": []
    },
    {
      "cell_type": "code",
      "execution_count": null,
      "id": "efcd47d5-e40a-43ba-b715-6a99403d4487",
      "metadata": {
        "id": "efcd47d5-e40a-43ba-b715-6a99403d4487"
      },
      "outputs": [],
      "source": []
    },
    {
      "cell_type": "code",
      "execution_count": null,
      "id": "b21fff4f-637f-464f-9790-3048dfa189d3",
      "metadata": {
        "id": "b21fff4f-637f-464f-9790-3048dfa189d3"
      },
      "outputs": [],
      "source": []
    }
  ],
  "metadata": {
    "colab": {
      "provenance": [],
      "include_colab_link": true
    },
    "kernelspec": {
      "display_name": "Python 3 (ipykernel)",
      "language": "python",
      "name": "python3"
    },
    "language_info": {
      "codemirror_mode": {
        "name": "ipython",
        "version": 3
      },
      "file_extension": ".py",
      "mimetype": "text/x-python",
      "name": "python",
      "nbconvert_exporter": "python",
      "pygments_lexer": "ipython3",
      "version": "3.10.12"
    }
  },
  "nbformat": 4,
  "nbformat_minor": 5
}